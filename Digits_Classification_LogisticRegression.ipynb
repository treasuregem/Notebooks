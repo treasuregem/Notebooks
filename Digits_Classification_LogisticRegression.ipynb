{
 "cells": [
  {
   "cell_type": "code",
   "execution_count": 27,
   "metadata": {},
   "outputs": [],
   "source": [
    "import matplotlib.pyplot as plt\n",
    "import pandas as pd\n",
    "import numpy as np\n",
    "from sklearn.model_selection import train_test_split\n",
    "from sklearn.datasets import load_digits"
   ]
  },
  {
   "cell_type": "code",
   "execution_count": 28,
   "metadata": {},
   "outputs": [
    {
     "data": {
      "image/png": "[encoded data removed]",
      "text/plain": [
       "<Figure size 432x288 with 10 Axes>"
      ]
     },
     "metadata": {
      "needs_background": "light"
     },
     "output_type": "display_data"
    }
   ],
   "source": [
    "digits=load_digits()\n",
    "f,axes=plt.subplots(2,5)\n",
    "axes[0,0].imshow(digits.images[0])\n",
    "axes[0,1].imshow(digits.images[1])\n",
    "axes[0,2].imshow(digits.images[2])\n",
    "axes[0,3].imshow(digits.images[3])\n",
    "axes[0,4].imshow(digits.images[4])\n",
    "axes[1,0].imshow(digits.images[5])\n",
    "axes[1,1].imshow(digits.images[6])\n",
    "axes[1,2].imshow(digits.images[7])\n",
    "axes[1,3].imshow(digits.images[8])\n",
    "axes[1,4].imshow(digits.images[9])\n",
    "plt.tight_layout()\n",
    "plt.show()"
   ]
  },
  {
   "cell_type": "code",
   "execution_count": 29,
   "metadata": {},
   "outputs": [
    {
     "name": "stdout",
     "output_type": "stream",
     "text": [
      "[[ 0.  0.  5. ...  0.  0.  0.]\n",
      " [ 0.  0.  0. ... 10.  0.  0.]\n",
      " [ 0.  0.  0. ... 16.  9.  0.]\n",
      " ...\n",
      " [ 0.  0.  1. ...  6.  0.  0.]\n",
      " [ 0.  0.  2. ... 12.  0.  0.]\n",
      " [ 0.  0. 10. ... 12.  1.  0.]]\n"
     ]
    }
   ],
   "source": [
    "print(digits.data)"
   ]
  },
  {
   "cell_type": "code",
   "execution_count": 30,
   "metadata": {},
   "outputs": [],
   "source": [
    "#Creating Logistic Regression class\n",
    "class LogisticRegression():\n",
    "    \"\"\" Class for training and using a model for Logistic Regression\"\"\"\n",
    "    \n",
    "    def set_values(self,initial_params,alpha=0.01,max_iter=5000,class_of_interest=0):\n",
    "        \"\"\"Sets the value for\n",
    "        initial_params: The initial parameters to start with\n",
    "        alpha: Step size analogus to the learning rate in Linear Regression\n",
    "        max_iter: Maximum number of iterations to be carried out\n",
    "        class_of_interest: this determines to which class (0 to 9) the image belongs depending \n",
    "                            on the probability value according to concept of one-vs-all\"\"\"\n",
    "        self.params=initial_params\n",
    "        self.alpha=alpha\n",
    "        self.max_iter=max_iter\n",
    "        self.class_of_interest=class_of_interest\n",
    "        \n",
    "        \n",
    "        \n",
    "    @staticmethod\n",
    "    def _sigmoid(x):\n",
    "        \"\"\"Its a sigmoid function\"\"\"\n",
    "        \n",
    "        return 1.0 / (1.0 + np.exp(-x))\n",
    "    \n",
    "    \n",
    "    \n",
    "    def predict(self, x_bar, params):\n",
    "        \"\"\"This function uses sigmoid function to predict the probability\n",
    "        of an output belonging to a particular class\"\"\"\n",
    "        \n",
    "        return self._sigmoid(np.dot(params,x_bar))\n",
    "    \n",
    "    \n",
    "    \n",
    "    def _compute_cost(self, input_var, output_var,params):\n",
    "        \"\"\"This computes the log likelihood cost\"\"\"\n",
    "        \n",
    "        cost = 0\n",
    "        for x, y in zip(input_var,output_var):\n",
    "            # y = theta_0 + x_1 * theta_1 + x_2 * theta_2 +....+ x_n * theta_n\n",
    "            # Here x_0 is 1 for theta_0 so x=[ 1, x_0, x_1, x_2, ...., x_n] where x is out input feature\n",
    "            # We need to add 1 in x at the position 0\n",
    "            x_bar = np.array(np.insert(x, 0, 1))\n",
    "            y_hat = self.predict(x_bar, params) # Calculates the predicted value\n",
    "            \n",
    "#             Now, during training, the class of our interest value is the y value which is the target label. \n",
    "#             suppose, if our class_of_interest is 2 (which we provide, to train for 2) and if the y (label) value for \n",
    "#             currosponding x (feature) value is also 2 in dataset then we take y_binary = 1 else y_binary=0 in cost function\n",
    "\n",
    "            y_binary = 1.0 if y == self.class_of_interest else 0.0\n",
    "            cost += y_binary * np.log(y_hat) + (1.0 - y_binary) * np.log(1 - y_hat) \n",
    "        \n",
    "        return cost\n",
    "    \n",
    "    \n",
    "    \n",
    "    def train(self, input_var, label, print_iter=5000):\n",
    "        \"\"\"This trains the model using Batch Gradient Descent\"\"\"\n",
    "        \n",
    "        print(f\"Training for digit: {self.class_of_interest}\")\n",
    "        iteration=1\n",
    "        while iteration<self.max_iter:\n",
    "    \n",
    "            if iteration % print_iter == 0:\n",
    "                print(f\"Cost: {self._compute_cost(input_var, label,self.params)}, Iteration: {iteration}\")\n",
    "            \n",
    "            # Iterate over each and every value of the dataset\n",
    "            for i, xy in enumerate(zip(input_var,label)):\n",
    "                x_bar = np.array(np.insert(xy[0],0,1))\n",
    "                y_hat = self.predict(x_bar, self.params)\n",
    "                y_binary = 1.0 if xy[1]==self.class_of_interest else 0.0\n",
    "                gradient = (y_binary - y_hat) * x_bar\n",
    "                self.params += self.alpha * gradient\n",
    "                \n",
    "            iteration += 1\n",
    "        \n",
    "        return self.params\n",
    "    \n",
    "    \n",
    "    def test(self, input_test,label_test):\n",
    "        \"\"\"This function will test the accuracy of the model.\n",
    "        Accuracy = (total classification / correct classification)\"\"\"\n",
    "        \n",
    "        self.total_classification=0\n",
    "        self.correct_classification=0\n",
    "        \n",
    "        for x, y in zip(input_test, label_test):\n",
    "            self.total_classification += 1\n",
    "            x_bar = np.array(np.insert(x,0,1))\n",
    "            y_hat = self.predict(x_bar , self.params)\n",
    "            y_binary = 1.0 if y == self.class_of_interest else 0.0\n",
    "            \n",
    "            # considering threshold probability = 0.5\n",
    "            if y_hat >=0.5 and y_binary == 1:  #predicted probability > 0.5 and if y is same as our class of interest\n",
    "                self.correct_classification += 1\n",
    "            \n",
    "            if y_hat < 0.5 and y_binary != 1:  #predicted probability < 0.5 and if y is NOT same as our class of interest\n",
    "                self.correct_classification += 1\n",
    "        \n",
    "        self.accuracy = self.correct_classification / self.total_classification\n",
    "    \n",
    "        return self.accuracy"
   ]
  },
  {
   "cell_type": "code",
   "execution_count": 31,
   "metadata": {},
   "outputs": [],
   "source": [
    "# Spliting the data in to train and test\n",
    "digits_train, digits_test, digits_label_train, digits_label_test = train_test_split(digits.data,digits.target,test_size=0.2)"
   ]
  },
  {
   "cell_type": "code",
   "execution_count": 15,
   "metadata": {},
   "outputs": [
    {
     "name": "stdout",
     "output_type": "stream",
     "text": [
      "Training for digit: 0\n",
      "Cost: -1.846328622884904, Iteration: 1000\n",
      "Cost: -1.0372192871263992, Iteration: 2000\n",
      "Cost: -0.729206981163873, Iteration: 3000\n",
      "Cost: -0.5647111806365639, Iteration: 4000\n",
      "Cost: -0.4618231006867816, Iteration: 5000\n",
      "Cost: -0.3911854300348703, Iteration: 6000\n",
      "Cost: -0.3395965741720156, Iteration: 7000\n",
      "Cost: -0.3002192967939829, Iteration: 8000\n",
      "Cost: -0.2691499966537756, Iteration: 9000\n"
     ]
    }
   ],
   "source": [
    "# Training the classifier for ZERO digit\n",
    "print_iter=1000\n",
    "class_of_interest=0\n",
    "alpha = 1e-2\n",
    "max_iter = 10000\n",
    "# Assumption of initial values of parameters\n",
    "initial_param_value=np.zeros(len(digits.data[0])+1)\n",
    "# Initializing LogisticRegression() class\n",
    "dig_log_reg=LogisticRegression()\n",
    "# Setting the class variables\n",
    "dig_log_reg.set_values(initial_param_value,alpha,max_iter,class_of_interest)\n",
    "# Training the model\n",
    "parameters = dig_log_reg.train(digits_train/16.0,digits_label_train,print_iter) #we divided the train data by 16 to normalize it as the maximum value in training data column is 16\n"
   ]
  },
  {
   "cell_type": "code",
   "execution_count": 16,
   "metadata": {},
   "outputs": [
    {
     "name": "stdout",
     "output_type": "stream",
     "text": [
      "Accuracy of prediciting a Zero digit in test set: 0.9972222222222222\n"
     ]
    }
   ],
   "source": [
    "# Calculating the accuracy on test data\n",
    "digits_accuracy=dig_log_reg.test(digits_test/16.0,digits_label_test)\n",
    "print(f'Accuracy of prediciting a Zero digit in test set: {digits_accuracy}')"
   ]
  },
  {
   "cell_type": "code",
   "execution_count": 17,
   "metadata": {},
   "outputs": [],
   "source": [
    "def train_test_digit(digit):\n",
    "    # Training the classifier for ZERO digit\n",
    "    print_iter=1000\n",
    "    class_of_interest=digit\n",
    "    alpha = 1e-2\n",
    "    max_iter = 10000\n",
    "    # Assumption of initial values of parameters\n",
    "    initial_param_value=np.zeros(len(digits.data[0])+1)\n",
    "    # Initializing LogisticRegression() class\n",
    "    dig_logreg=LogisticRegression()\n",
    "    # Setting the class variables\n",
    "    dig_logreg.set_values(initial_param_value,alpha,max_iter,class_of_interest)\n",
    "    # Training the model\n",
    "    parameters = dig_logreg.train(digits_train/16.0,digits_label_train,print_iter) #we divided the train data by 16 to normalize it as the maximum value in training data column is 16\n",
    "    # Calculate Accuracy\n",
    "    digits_accuracy=dig_logreg.test(digits_test/16.0,digits_label_test)\n",
    "    print(f'-------------------------------------------------------------------------------------')\n",
    "    print(f'Accuracy of prediciting a {class_of_interest} digit in test set: {digits_accuracy}')\n",
    "    return digits_accuracy"
   ]
  },
  {
   "cell_type": "code",
   "execution_count": 18,
   "metadata": {},
   "outputs": [
    {
     "name": "stdout",
     "output_type": "stream",
     "text": [
      "Training for digit: 1\n",
      "Cost: -31.001711361197675, Iteration: 1000\n",
      "Cost: -24.382166323027484, Iteration: 2000\n",
      "Cost: -21.028330253945015, Iteration: 3000\n",
      "Cost: -18.852812374623827, Iteration: 4000\n",
      "Cost: -17.268169403144668, Iteration: 5000\n",
      "Cost: -16.032605000590873, Iteration: 6000\n",
      "Cost: -15.025546285383262, Iteration: 7000\n",
      "Cost: -14.179015936199473, Iteration: 8000\n",
      "Cost: -13.451199449110883, Iteration: 9000\n",
      "-------------------------------------------------------------------------------------\n",
      "Accuracy of prediciting a 1 digit in test set: 0.9777777777777777\n"
     ]
    },
    {
     "data": {
      "text/plain": [
       "0.9777777777777777"
      ]
     },
     "execution_count": 18,
     "metadata": {},
     "output_type": "execute_result"
    }
   ],
   "source": [
    "train_test_digit(1)"
   ]
  },
  {
   "cell_type": "code",
   "execution_count": null,
   "metadata": {},
   "outputs": [
    {
     "name": "stdout",
     "output_type": "stream",
     "text": [
      "Training for digit: 9\n",
      "Cost: -32.489140253479896, Iteration: 1000\n",
      "Cost: -27.402771720948316, Iteration: 2000\n",
      "Cost: -24.933287105045686, Iteration: 3000\n",
      "Cost: -23.359959942641144, Iteration: 4000\n",
      "Cost: -22.228988755001335, Iteration: 5000\n",
      "Cost: -21.35697973625737, Iteration: 6000\n",
      "Cost: -20.65216135105316, Iteration: 7000\n",
      "Cost: -20.062451504162517, Iteration: 8000\n",
      "Cost: -19.555752222607335, Iteration: 9000\n"
     ]
    }
   ],
   "source": [
    "train_test_digit(9)"
   ]
  },
  {
   "cell_type": "markdown",
   "metadata": {},
   "source": [
    "# Using sklearn"
   ]
  },
  {
   "cell_type": "code",
   "execution_count": 19,
   "metadata": {},
   "outputs": [],
   "source": [
    "from sklearn.linear_model import LogisticRegression"
   ]
  },
  {
   "cell_type": "code",
   "execution_count": 20,
   "metadata": {},
   "outputs": [],
   "source": [
    "logisticRegr = LogisticRegression()"
   ]
  },
  {
   "cell_type": "code",
   "execution_count": 21,
   "metadata": {},
   "outputs": [
    {
     "name": "stderr",
     "output_type": "stream",
     "text": [
      "C:\\Users\\hemen\\Anaconda3\\lib\\site-packages\\sklearn\\linear_model\\logistic.py:433: FutureWarning: Default solver will be changed to 'lbfgs' in 0.22. Specify a solver to silence this warning.\n",
      "  FutureWarning)\n",
      "C:\\Users\\hemen\\Anaconda3\\lib\\site-packages\\sklearn\\linear_model\\logistic.py:460: FutureWarning: Default multi_class will be changed to 'auto' in 0.22. Specify the multi_class option to silence this warning.\n",
      "  \"this warning.\", FutureWarning)\n"
     ]
    },
    {
     "data": {
      "text/plain": [
       "LogisticRegression(C=1.0, class_weight=None, dual=False, fit_intercept=True,\n",
       "          intercept_scaling=1, max_iter=100, multi_class='warn',\n",
       "          n_jobs=None, penalty='l2', random_state=None, solver='warn',\n",
       "          tol=0.0001, verbose=0, warm_start=False)"
      ]
     },
     "execution_count": 21,
     "metadata": {},
     "output_type": "execute_result"
    }
   ],
   "source": [
    "logisticRegr.fit(digits_train/16.0,digits_label_train)"
   ]
  },
  {
   "cell_type": "code",
   "execution_count": 22,
   "metadata": {},
   "outputs": [],
   "source": [
    "predictions = logisticRegr.predict(digits_test/16.0)"
   ]
  },
  {
   "cell_type": "code",
   "execution_count": 23,
   "metadata": {},
   "outputs": [
    {
     "name": "stdout",
     "output_type": "stream",
     "text": [
      "0.9666666666666667\n"
     ]
    }
   ],
   "source": [
    "score = logisticRegr.score(digits_test/16.0, digits_label_test)\n",
    "print(score)"
   ]
  },
  {
   "cell_type": "code",
   "execution_count": 25,
   "metadata": {},
   "outputs": [
    {
     "name": "stdout",
     "output_type": "stream",
     "text": [
      "0.9666666666666667\n"
     ]
    }
   ],
   "source": [
    "from sklearn.metrics import accuracy_score\n",
    "acc=accuracy_score(digits_label_test,predictions)\n",
    "print(acc)"
   ]
  },
  {
   "cell_type": "code",
   "execution_count": null,
   "metadata": {},
   "outputs": [],
   "source": []
  }
 ],
 "metadata": {
  "kernelspec": {
   "display_name": "Python 3",
   "language": "python",
   "name": "python3"
  },
  "language_info": {
   "codemirror_mode": {
    "name": "ipython",
    "version": 3
   },
   "file_extension": ".py",
   "mimetype": "text/x-python",
   "name": "python",
   "nbconvert_exporter": "python",
   "pygments_lexer": "ipython3",
   "version": "3.7.1"
  }
 },
 "nbformat": 4,
 "nbformat_minor": 2
}
